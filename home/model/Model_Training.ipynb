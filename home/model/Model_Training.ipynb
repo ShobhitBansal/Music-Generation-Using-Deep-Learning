{
 "cells": [
  {
   "cell_type": "code",
   "execution_count": 0,
   "metadata": {
    "colab": {},
    "colab_type": "code",
    "id": "UnnzjCX-rqw3"
   },
   "outputs": [],
   "source": [
    "from music21 import converter,instrument,note,chord\n",
    "import numpy as np\n",
    "import pickle"
   ]
  },
  {
   "cell_type": "code",
   "execution_count": 0,
   "metadata": {
    "colab": {},
    "colab_type": "code",
    "id": "uMBuUbifsK0O"
   },
   "outputs": [],
   "source": [
    "with open(\"Notes\" , 'rb') as f:\n",
    "    notes = pickle.load(f)"
   ]
  },
  {
   "cell_type": "code",
   "execution_count": 4,
   "metadata": {
    "colab": {
     "base_uri": "https://localhost:8080/",
     "height": 50
    },
    "colab_type": "code",
    "id": "E373rpLPsUMQ",
    "outputId": "a54c660d-5c64-4038-c3e9-2de5b9cc1bc2"
   },
   "outputs": [
    {
     "name": "stdout",
     "output_type": "stream",
     "text": [
      "Total Elements :  117989\n",
      "Unique Elements :  652\n"
     ]
    }
   ],
   "source": [
    "print(\"Total Elements : \",len(notes))\n",
    "print(\"Unique Elements : \",len(set(notes)))"
   ]
  },
  {
   "cell_type": "code",
   "execution_count": 5,
   "metadata": {
    "colab": {
     "base_uri": "https://localhost:8080/",
     "height": 34
    },
    "colab_type": "code",
    "id": "0X3eeeXfSGYW",
    "outputId": "99eb8f31-8728-48c7-c61b-1491a62475da"
   },
   "outputs": [
    {
     "name": "stdout",
     "output_type": "stream",
     "text": [
      "652\n"
     ]
    }
   ],
   "source": [
    "n_vocab = set(notes)\n",
    "print(len(n_vocab))"
   ]
  },
  {
   "cell_type": "markdown",
   "metadata": {
    "colab_type": "text",
    "id": "pojyDJSUsmRR"
   },
   "source": [
    "# Preparing Sequential Data for LSTM"
   ]
  },
  {
   "cell_type": "code",
   "execution_count": 0,
   "metadata": {
    "colab": {},
    "colab_type": "code",
    "id": "uCaCvHwNsgmp"
   },
   "outputs": [],
   "source": [
    "pitchnames = sorted(set(notes))"
   ]
  },
  {
   "cell_type": "code",
   "execution_count": 0,
   "metadata": {
    "colab": {},
    "colab_type": "code",
    "id": "badwjllKsocs"
   },
   "outputs": [],
   "source": [
    "element_to_label = dict((ele,num) for num,ele in enumerate(pitchnames))"
   ]
  },
  {
   "cell_type": "code",
   "execution_count": 8,
   "metadata": {
    "colab": {
     "base_uri": "https://localhost:8080/",
     "height": 34
    },
    "colab_type": "code",
    "id": "GhKSjbC1srFB",
    "outputId": "1bb5fae5-dd2a-47a3-a7b6-e839a4dabf86"
   },
   "outputs": [
    {
     "name": "stdout",
     "output_type": "stream",
     "text": [
      "173\n"
     ]
    }
   ],
   "source": [
    "print(element_to_label['11+1+2+6'])"
   ]
  },
  {
   "cell_type": "code",
   "execution_count": 0,
   "metadata": {
    "colab": {},
    "colab_type": "code",
    "id": "q1xKztVussgo"
   },
   "outputs": [],
   "source": [
    "# No of elements used in Markov Chains to predict the next element\n",
    "sequence_length = 50"
   ]
  },
  {
   "cell_type": "code",
   "execution_count": 0,
   "metadata": {
    "colab": {},
    "colab_type": "code",
    "id": "mRTsOv0DsuAX"
   },
   "outputs": [],
   "source": [
    "network_input = []\n",
    "network_output = []\n",
    "\n",
    "for i in range(len(notes)-sequence_length):\n",
    "    seq_in = notes[i:i+sequence_length]\n",
    "    seq_out = notes[i+sequence_length]\n",
    "    \n",
    "    network_input.append([element_to_label[ch] for ch in seq_in])\n",
    "    network_output.append(element_to_label[seq_out])"
   ]
  },
  {
   "cell_type": "code",
   "execution_count": 11,
   "metadata": {
    "colab": {
     "base_uri": "https://localhost:8080/",
     "height": 50
    },
    "colab_type": "code",
    "id": "yrGH08FTsvwK",
    "outputId": "7ba26be8-3161-41f0-e10f-0302b0bcf7c9"
   },
   "outputs": [
    {
     "name": "stdout",
     "output_type": "stream",
     "text": [
      "117939\n",
      "117939\n"
     ]
    }
   ],
   "source": [
    "print(len(network_input))\n",
    "print(len(network_output))"
   ]
  },
  {
   "cell_type": "code",
   "execution_count": 12,
   "metadata": {
    "colab": {
     "base_uri": "https://localhost:8080/",
     "height": 54
    },
    "colab_type": "code",
    "id": "6dWjaovAsw80",
    "outputId": "e740a040-9d8d-4ad0-e9a9-8a031f9eb314"
   },
   "outputs": [
    {
     "name": "stdout",
     "output_type": "stream",
     "text": [
      "[642, 614, 152, 649, 641, 640, 584, 613, 613, 613, 613, 613, 607, 189, 585, 613, 436, 584, 629, 633, 595, 628, 596, 627, 643, 623, 626, 584, 626, 595, 584, 622, 583, 363, 32, 596, 579, 612, 290, 579, 612, 628, 615, 597, 624, 247, 612, 583, 588, 582]\n"
     ]
    }
   ],
   "source": [
    "print(network_input[0])"
   ]
  },
  {
   "cell_type": "code",
   "execution_count": 0,
   "metadata": {
    "colab": {},
    "colab_type": "code",
    "id": "kFHo2aNKsyys"
   },
   "outputs": [],
   "source": [
    "Xtrain = np.reshape(network_input,(-1,sequence_length,1))"
   ]
  },
  {
   "cell_type": "markdown",
   "metadata": {
    "colab_type": "text",
    "id": "jjjX4kwYs4Sz"
   },
   "source": [
    "## Normalise training data"
   ]
  },
  {
   "cell_type": "code",
   "execution_count": 0,
   "metadata": {
    "colab": {},
    "colab_type": "code",
    "id": "fbxZXmGusz_P"
   },
   "outputs": [],
   "source": [
    "Xtrain = Xtrain/float(len(set(notes)))"
   ]
  },
  {
   "cell_type": "code",
   "execution_count": 0,
   "metadata": {
    "colab": {},
    "colab_type": "code",
    "id": "2KindBuTs8do"
   },
   "outputs": [],
   "source": [
    "#%tensorflow_version 1.x"
   ]
  },
  {
   "cell_type": "code",
   "execution_count": 16,
   "metadata": {
    "colab": {
     "base_uri": "https://localhost:8080/",
     "height": 34
    },
    "colab_type": "code",
    "id": "ETBo0Rjjs58n",
    "outputId": "6842cde4-ef56-4b99-9ac0-0f13eeb54f0b"
   },
   "outputs": [
    {
     "name": "stderr",
     "output_type": "stream",
     "text": [
      "Using TensorFlow backend.\n"
     ]
    }
   ],
   "source": [
    "from keras.utils import to_categorical"
   ]
  },
  {
   "cell_type": "code",
   "execution_count": 0,
   "metadata": {
    "colab": {},
    "colab_type": "code",
    "id": "a6Z7rX6btCxL"
   },
   "outputs": [],
   "source": [
    "Ytrain = to_categorical(network_output)"
   ]
  },
  {
   "cell_type": "code",
   "execution_count": 18,
   "metadata": {
    "colab": {
     "base_uri": "https://localhost:8080/",
     "height": 50
    },
    "colab_type": "code",
    "id": "h0C4XbSHtFan",
    "outputId": "2cc04a92-a15b-4b36-82e8-b54877a8e334"
   },
   "outputs": [
    {
     "name": "stdout",
     "output_type": "stream",
     "text": [
      "(117939, 50, 1)\n",
      "(117939, 652)\n"
     ]
    }
   ],
   "source": [
    "print(Xtrain.shape)\n",
    "print(Ytrain.shape)"
   ]
  },
  {
   "cell_type": "markdown",
   "metadata": {
    "colab_type": "text",
    "id": "EKj-78xoBi_B"
   },
   "source": [
    "# LSTM Model"
   ]
  },
  {
   "cell_type": "code",
   "execution_count": 0,
   "metadata": {
    "colab": {},
    "colab_type": "code",
    "id": "awxCDkyhtGnO"
   },
   "outputs": [],
   "source": [
    "from keras.models import Sequential\n",
    "from keras.layers import *\n",
    "from keras.optimizers import Adam\n",
    "from keras.callbacks import ModelCheckpoint,EarlyStopping"
   ]
  },
  {
   "cell_type": "code",
   "execution_count": 0,
   "metadata": {
    "colab": {},
    "colab_type": "code",
    "id": "esCKU8p6BvRf"
   },
   "outputs": [],
   "source": [
    "model = Sequential()\n",
    "model.add(LSTM(512,input_shape=(Xtrain.shape[1],1),return_sequences=True))\n",
    "model.add(Dropout(0.2))\n",
    "model.add(LSTM(512,return_sequences=True))\n",
    "model.add(Dropout(0.2))\n",
    "model.add(LSTM(512))\n",
    "model.add(Dense(512))\n",
    "model.add(Dropout(0.2))\n",
    "model.add(Dense(len(set(notes)),activation='softmax'))"
   ]
  },
  {
   "cell_type": "code",
   "execution_count": 21,
   "metadata": {
    "colab": {
     "base_uri": "https://localhost:8080/",
     "height": 420
    },
    "colab_type": "code",
    "id": "VUcMaFy1C1pB",
    "outputId": "6c00519d-266f-49e1-c8b0-3b1e5dca912b"
   },
   "outputs": [
    {
     "name": "stdout",
     "output_type": "stream",
     "text": [
      "Model: \"sequential_1\"\n",
      "_________________________________________________________________\n",
      "Layer (type)                 Output Shape              Param #   \n",
      "=================================================================\n",
      "lstm_1 (LSTM)                (None, 50, 512)           1052672   \n",
      "_________________________________________________________________\n",
      "dropout_1 (Dropout)          (None, 50, 512)           0         \n",
      "_________________________________________________________________\n",
      "lstm_2 (LSTM)                (None, 50, 512)           2099200   \n",
      "_________________________________________________________________\n",
      "dropout_2 (Dropout)          (None, 50, 512)           0         \n",
      "_________________________________________________________________\n",
      "lstm_3 (LSTM)                (None, 512)               2099200   \n",
      "_________________________________________________________________\n",
      "dense_1 (Dense)              (None, 512)               262656    \n",
      "_________________________________________________________________\n",
      "dropout_3 (Dropout)          (None, 512)               0         \n",
      "_________________________________________________________________\n",
      "dense_2 (Dense)              (None, 652)               334476    \n",
      "=================================================================\n",
      "Total params: 5,848,204\n",
      "Trainable params: 5,848,204\n",
      "Non-trainable params: 0\n",
      "_________________________________________________________________\n"
     ]
    }
   ],
   "source": [
    "model.summary()"
   ]
  },
  {
   "cell_type": "code",
   "execution_count": 0,
   "metadata": {
    "colab": {},
    "colab_type": "code",
    "id": "zGqtu3QqDVwd"
   },
   "outputs": [],
   "source": [
    "adam = Adam(lr=1e-3)\n",
    "model.compile(loss='categorical_crossentropy',optimizer=adam)"
   ]
  },
  {
   "cell_type": "code",
   "execution_count": 23,
   "metadata": {
    "colab": {
     "base_uri": "https://localhost:8080/",
     "height": 1000
    },
    "colab_type": "code",
    "id": "WUalcn4hDdaX",
    "outputId": "e4d57f46-c0f9-4dd6-e55e-4b3b729953c0"
   },
   "outputs": [
    {
     "name": "stdout",
     "output_type": "stream",
     "text": [
      "Epoch 1/50\n",
      "117939/117939 [==============================] - 58s 492us/step - loss: 4.6427\n",
      "Epoch 2/50\n",
      "117939/117939 [==============================] - 56s 477us/step - loss: 4.6132\n",
      "Epoch 3/50\n",
      "117939/117939 [==============================] - 56s 474us/step - loss: 4.6010\n",
      "Epoch 4/50\n",
      "117939/117939 [==============================] - 56s 474us/step - loss: 4.5979\n",
      "Epoch 5/50\n",
      "117939/117939 [==============================] - 56s 475us/step - loss: 4.5951\n",
      "Epoch 6/50\n",
      "117939/117939 [==============================] - 56s 476us/step - loss: 4.5937\n",
      "Epoch 7/50\n",
      "117939/117939 [==============================] - 56s 472us/step - loss: 4.5927\n",
      "Epoch 8/50\n",
      "117939/117939 [==============================] - 55s 468us/step - loss: 4.5898\n",
      "Epoch 9/50\n",
      "117939/117939 [==============================] - 55s 470us/step - loss: 4.5866\n",
      "Epoch 10/50\n",
      "117939/117939 [==============================] - 55s 470us/step - loss: 4.5848\n",
      "Epoch 11/50\n",
      "117939/117939 [==============================] - 55s 469us/step - loss: 4.5817\n",
      "Epoch 12/50\n",
      "117939/117939 [==============================] - 55s 466us/step - loss: 4.5797\n",
      "Epoch 13/50\n",
      "117939/117939 [==============================] - 55s 464us/step - loss: 4.5741\n",
      "Epoch 14/50\n",
      "117939/117939 [==============================] - 55s 466us/step - loss: 4.5684\n",
      "Epoch 15/50\n",
      "117939/117939 [==============================] - 55s 468us/step - loss: 4.5493\n",
      "Epoch 16/50\n",
      "117939/117939 [==============================] - 55s 465us/step - loss: 4.5331\n",
      "Epoch 17/50\n",
      "117939/117939 [==============================] - 54s 461us/step - loss: 4.5201\n",
      "Epoch 18/50\n",
      "117939/117939 [==============================] - 55s 466us/step - loss: 4.4994\n",
      "Epoch 19/50\n",
      "117939/117939 [==============================] - 56s 475us/step - loss: 4.4882\n",
      "Epoch 20/50\n",
      "117939/117939 [==============================] - 56s 474us/step - loss: 4.4784\n",
      "Epoch 21/50\n",
      "117939/117939 [==============================] - 56s 476us/step - loss: 4.4725\n",
      "Epoch 22/50\n",
      "117939/117939 [==============================] - 56s 475us/step - loss: 4.4529\n",
      "Epoch 23/50\n",
      "117939/117939 [==============================] - 56s 476us/step - loss: 4.4365\n",
      "Epoch 24/50\n",
      "117939/117939 [==============================] - 56s 477us/step - loss: 4.4219\n",
      "Epoch 25/50\n",
      "117939/117939 [==============================] - 56s 477us/step - loss: 4.4046\n",
      "Epoch 26/50\n",
      "117939/117939 [==============================] - 57s 481us/step - loss: 4.3783\n",
      "Epoch 27/50\n",
      "117939/117939 [==============================] - 56s 476us/step - loss: 4.3521\n",
      "Epoch 28/50\n",
      "117939/117939 [==============================] - 57s 479us/step - loss: 4.3162\n",
      "Epoch 29/50\n",
      "117939/117939 [==============================] - 57s 482us/step - loss: 4.2744\n",
      "Epoch 30/50\n",
      "117939/117939 [==============================] - 57s 480us/step - loss: 4.2414\n",
      "Epoch 31/50\n",
      "117939/117939 [==============================] - 57s 483us/step - loss: 4.1955\n",
      "Epoch 32/50\n",
      "117939/117939 [==============================] - 56s 475us/step - loss: 4.1478\n",
      "Epoch 33/50\n",
      "117939/117939 [==============================] - 56s 478us/step - loss: 4.0959\n",
      "Epoch 34/50\n",
      "117939/117939 [==============================] - 56s 477us/step - loss: 4.0415\n",
      "Epoch 35/50\n",
      "117939/117939 [==============================] - 57s 484us/step - loss: 3.9909\n",
      "Epoch 36/50\n",
      "117939/117939 [==============================] - 57s 484us/step - loss: 3.9184\n",
      "Epoch 37/50\n",
      "117939/117939 [==============================] - 57s 481us/step - loss: 3.8609\n",
      "Epoch 38/50\n",
      "117939/117939 [==============================] - 57s 483us/step - loss: 3.8003\n",
      "Epoch 39/50\n",
      "117939/117939 [==============================] - 57s 482us/step - loss: 3.7187\n",
      "Epoch 40/50\n",
      "117939/117939 [==============================] - 57s 483us/step - loss: 3.6370\n",
      "Epoch 41/50\n",
      "117939/117939 [==============================] - 57s 481us/step - loss: 3.5771\n",
      "Epoch 42/50\n",
      "117939/117939 [==============================] - 57s 481us/step - loss: 3.4705\n",
      "Epoch 43/50\n",
      "117939/117939 [==============================] - 56s 478us/step - loss: 3.3896\n",
      "Epoch 44/50\n",
      "117939/117939 [==============================] - 56s 473us/step - loss: 3.3096\n",
      "Epoch 45/50\n",
      "117939/117939 [==============================] - 57s 480us/step - loss: 3.2112\n",
      "Epoch 46/50\n",
      "117939/117939 [==============================] - 57s 480us/step - loss: 3.1228\n",
      "Epoch 47/50\n",
      "117939/117939 [==============================] - 57s 481us/step - loss: 3.0332\n",
      "Epoch 48/50\n",
      "117939/117939 [==============================] - 57s 479us/step - loss: 2.9631\n",
      "Epoch 49/50\n",
      "117939/117939 [==============================] - 57s 482us/step - loss: 2.8554\n",
      "Epoch 50/50\n",
      "117939/117939 [==============================] - 56s 477us/step - loss: 2.7686\n"
     ]
    }
   ],
   "source": [
    "checkpoint = ModelCheckpoint(\"piano_model.hdf5\",monitor='loss',save_best_only=True)\n",
    "\n",
    "hist = model.fit(Xtrain,Ytrain,batch_size=1024,epochs=50,callbacks=[checkpoint])"
   ]
  },
  {
   "cell_type": "code",
   "execution_count": 0,
   "metadata": {
    "colab": {},
    "colab_type": "code",
    "id": "3czn5gble1Ej"
   },
   "outputs": [],
   "source": []
  }
 ],
 "metadata": {
  "accelerator": "GPU",
  "colab": {
   "collapsed_sections": [],
   "name": "Copy of Music_Generation.ipynb",
   "provenance": []
  },
  "kernelspec": {
   "display_name": "Python 3",
   "language": "python",
   "name": "python3"
  },
  "language_info": {
   "codemirror_mode": {
    "name": "ipython",
    "version": 3
   },
   "file_extension": ".py",
   "mimetype": "text/x-python",
   "name": "python",
   "nbconvert_exporter": "python",
   "pygments_lexer": "ipython3",
   "version": "3.7.6"
  }
 },
 "nbformat": 4,
 "nbformat_minor": 1
}
