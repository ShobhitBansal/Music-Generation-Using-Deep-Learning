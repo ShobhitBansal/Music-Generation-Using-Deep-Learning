{
 "cells": [
  {
   "cell_type": "code",
   "execution_count": 1,
   "metadata": {},
   "outputs": [],
   "source": [
    "from music21 import converter,instrument,note,chord,stream\n",
    "import numpy as np\n",
    "import pickle"
   ]
  },
  {
   "cell_type": "code",
   "execution_count": 2,
   "metadata": {},
   "outputs": [
    {
     "name": "stderr",
     "output_type": "stream",
     "text": [
      "Using TensorFlow backend.\n"
     ]
    }
   ],
   "source": [
    "from keras.models import load_model"
   ]
  },
  {
   "cell_type": "code",
   "execution_count": 3,
   "metadata": {},
   "outputs": [],
   "source": [
    "model = load_model(\"piano_model.hdf5\")"
   ]
  },
  {
   "cell_type": "code",
   "execution_count": 4,
   "metadata": {},
   "outputs": [
    {
     "name": "stdout",
     "output_type": "stream",
     "text": [
      "Model: \"sequential_1\"\n",
      "_________________________________________________________________\n",
      "Layer (type)                 Output Shape              Param #   \n",
      "=================================================================\n",
      "lstm_1 (LSTM)                (None, 50, 512)           1052672   \n",
      "_________________________________________________________________\n",
      "dropout_1 (Dropout)          (None, 50, 512)           0         \n",
      "_________________________________________________________________\n",
      "lstm_2 (LSTM)                (None, 50, 512)           2099200   \n",
      "_________________________________________________________________\n",
      "dropout_2 (Dropout)          (None, 50, 512)           0         \n",
      "_________________________________________________________________\n",
      "lstm_3 (LSTM)                (None, 512)               2099200   \n",
      "_________________________________________________________________\n",
      "dense_1 (Dense)              (None, 512)               262656    \n",
      "_________________________________________________________________\n",
      "dropout_3 (Dropout)          (None, 512)               0         \n",
      "_________________________________________________________________\n",
      "dense_2 (Dense)              (None, 652)               334476    \n",
      "=================================================================\n",
      "Total params: 5,848,204\n",
      "Trainable params: 5,848,204\n",
      "Non-trainable params: 0\n",
      "_________________________________________________________________\n"
     ]
    }
   ],
   "source": [
    "model.summary()"
   ]
  },
  {
   "cell_type": "code",
   "execution_count": 5,
   "metadata": {},
   "outputs": [],
   "source": [
    "with open(\"Notes\" , 'rb') as f:\n",
    "    notes = pickle.load(f)"
   ]
  },
  {
   "cell_type": "code",
   "execution_count": 6,
   "metadata": {},
   "outputs": [
    {
     "name": "stdout",
     "output_type": "stream",
     "text": [
      "Total Elements :  117989\n",
      "Unique Elements :  652\n"
     ]
    }
   ],
   "source": [
    "print(\"Total Elements : \",len(notes))\n",
    "print(\"Unique Elements : \",len(set(notes)))"
   ]
  },
  {
   "cell_type": "code",
   "execution_count": 7,
   "metadata": {},
   "outputs": [],
   "source": [
    "pitchnames = sorted(set(notes))"
   ]
  },
  {
   "cell_type": "code",
   "execution_count": 8,
   "metadata": {},
   "outputs": [],
   "source": [
    "element_to_label = dict((ele,num) for num,ele in enumerate(pitchnames))"
   ]
  },
  {
   "cell_type": "code",
   "execution_count": 9,
   "metadata": {},
   "outputs": [
    {
     "name": "stdout",
     "output_type": "stream",
     "text": [
      "628\n"
     ]
    }
   ],
   "source": [
    "print(element_to_label['F#4'])"
   ]
  },
  {
   "cell_type": "code",
   "execution_count": 10,
   "metadata": {},
   "outputs": [],
   "source": [
    "sequence_length = 50"
   ]
  },
  {
   "cell_type": "code",
   "execution_count": 11,
   "metadata": {},
   "outputs": [],
   "source": [
    "label_to_element = dict((value,key) for (key,value) in element_to_label.items())"
   ]
  },
  {
   "cell_type": "code",
   "execution_count": 12,
   "metadata": {},
   "outputs": [
    {
     "name": "stdout",
     "output_type": "stream",
     "text": [
      "10+11+3+6\n"
     ]
    }
   ],
   "source": [
    "print(label_to_element[142])"
   ]
  },
  {
   "cell_type": "code",
   "execution_count": 13,
   "metadata": {},
   "outputs": [],
   "source": [
    "    network_input = []\n",
    "    for i in range(len(notes)-sequence_length):\n",
    "        seq_in = notes[i:i+sequence_length]    \n",
    "        network_input.append([element_to_label[ch] for ch in seq_in])"
   ]
  },
  {
   "cell_type": "code",
   "execution_count": 14,
   "metadata": {},
   "outputs": [
    {
     "name": "stdout",
     "output_type": "stream",
     "text": [
      "[648, 603, 640, 585, 607, 591, 614, 585, 642, 590, 615, 603, 641, 648, 630, 640, 614, 585, 640, 642, 590, 603, 616, 622, 620, 621, 609, 597, 609, 597, 589, 629, 643, 616, 597, 603, 620, 597, 155, 642, 400, 615, 603, 641, 630, 640, 642, 615, 615, 585]\n"
     ]
    }
   ],
   "source": [
    "print(network_input[350])"
   ]
  },
  {
   "cell_type": "code",
   "execution_count": 15,
   "metadata": {},
   "outputs": [],
   "source": [
    "def resultModel(network_input):\n",
    "    Xtrain = np.reshape(network_input,(-1,len(network_input),1))\n",
    "    Xtrain = Xtrain/float(len(set(notes)))\n",
    "    prediction = model.predict(Xtrain)\n",
    "    result = np.argmax(prediction)\n",
    "    return result"
   ]
  },
  {
   "cell_type": "code",
   "execution_count": 16,
   "metadata": {},
   "outputs": [],
   "source": [
    "gen_seq = []\n",
    "\n",
    "start = np.random.randint(len(network_input)-1)\n",
    "pattern = network_input[start]\n",
    "for i in range(100):\n",
    "    result = resultModel(pattern)\n",
    "    #print(result)\n",
    "    gen_seq.append(label_to_element[result])\n",
    "    pattern.append(result)\n",
    "    pattern = pattern[1:]"
   ]
  },
  {
   "cell_type": "code",
   "execution_count": 17,
   "metadata": {},
   "outputs": [
    {
     "name": "stdout",
     "output_type": "stream",
     "text": [
      "['A4', 'A4', 'F2', 'C4', 'C4', 'F2', 'F2', '0+5', '0+4', 'F4', 'F2', 'E2', 'A3', 'F2', 'C#6', 'E2', 'F2', 'C4', 'C4', 'C4', 'G5', 'F4', 'F4', 'F2', 'A3', 'C3', 'F3', '4+5', '0+5', 'E3', 'E2', 'C4', 'F4', 'F4', 'C5', 'C5', 'C5', 'C5', 'C5', 'C5', 'C5', 'C5', 'C5', 'F5', '11+1', 'F#2', 'B4', 'C5', 'D3', '7+11', 'C6', 'D3', '6+7', '4+7', 'G5', 'C6', 'C4', 'G4', '4+7', '9+0', '4+7', 'G3', 'F2', 'C3', 'E4', 'B2', 'F#3', 'F#5', 'A5', '4+5', 'G2', 'G2', 'G#4', 'G3', 'F#2', 'F#2', 'G3', 'F#2', 'F#2', '0+5', 'G#4', 'B4', '3+5', 'B4', 'B4', 'E6', 'F#4', 'B3', '3+5', 'G4', 'F3', 'D5', '3+5', 'F2', 'E-5', 'E6', 'E-5', 'B4', 'F2', 'D3']\n"
     ]
    }
   ],
   "source": [
    "print(gen_seq)"
   ]
  },
  {
   "cell_type": "markdown",
   "metadata": {},
   "source": [
    "# Generating MIDI from Output"
   ]
  },
  {
   "cell_type": "code",
   "execution_count": 18,
   "metadata": {},
   "outputs": [],
   "source": [
    "offset = 0\n",
    "output_notes = []\n",
    "\n",
    "for pattern in gen_seq:\n",
    "    \n",
    "    # if pattern is a chord\n",
    "    if ('+' in pattern) or pattern.isdigit():\n",
    "        notes_in_chord = pattern.split('+')\n",
    "        temp_notes = []\n",
    "        for current_note in notes_in_chord:\n",
    "            new_note = note.Note(int(current_note))\n",
    "            new_note.storedInstrument = instrument.Piano()\n",
    "            temp_notes.append(new_note)\n",
    "            \n",
    "        new_chord = chord.Chord(temp_notes)\n",
    "        new_chord.offset = offset\n",
    "        output_notes.append(new_chord)\n",
    "        \n",
    "    # if pattern is a note\n",
    "    else:\n",
    "        new_note = note.Note(pattern)\n",
    "        new_note.offset = offset\n",
    "        new_note.storedInstrument = instrument.Piano()\n",
    "        output_notes.append(new_note)\n",
    "        \n",
    "    if offset < 7:    \n",
    "        offset += 1.0\n",
    "    elif offset >47:\n",
    "        offset += 1.0\n",
    "    else:\n",
    "        offset +=0.5"
   ]
  },
  {
   "cell_type": "code",
   "execution_count": 19,
   "metadata": {},
   "outputs": [
    {
     "name": "stdout",
     "output_type": "stream",
     "text": [
      "59.5\n"
     ]
    }
   ],
   "source": [
    "print(offset)"
   ]
  },
  {
   "cell_type": "code",
   "execution_count": 20,
   "metadata": {},
   "outputs": [
    {
     "data": {
      "text/plain": [
       "[<music21.note.Note A>,\n",
       " <music21.note.Note A>,\n",
       " <music21.note.Note F>,\n",
       " <music21.note.Note C>,\n",
       " <music21.note.Note C>,\n",
       " <music21.note.Note F>,\n",
       " <music21.note.Note F>,\n",
       " <music21.chord.Chord C F>,\n",
       " <music21.chord.Chord C E>,\n",
       " <music21.note.Note F>,\n",
       " <music21.note.Note F>,\n",
       " <music21.note.Note E>,\n",
       " <music21.note.Note A>,\n",
       " <music21.note.Note F>,\n",
       " <music21.note.Note C#>,\n",
       " <music21.note.Note E>,\n",
       " <music21.note.Note F>,\n",
       " <music21.note.Note C>,\n",
       " <music21.note.Note C>,\n",
       " <music21.note.Note C>,\n",
       " <music21.note.Note G>,\n",
       " <music21.note.Note F>,\n",
       " <music21.note.Note F>,\n",
       " <music21.note.Note F>,\n",
       " <music21.note.Note A>,\n",
       " <music21.note.Note C>,\n",
       " <music21.note.Note F>,\n",
       " <music21.chord.Chord E F>,\n",
       " <music21.chord.Chord C F>,\n",
       " <music21.note.Note E>,\n",
       " <music21.note.Note E>,\n",
       " <music21.note.Note C>,\n",
       " <music21.note.Note F>,\n",
       " <music21.note.Note F>,\n",
       " <music21.note.Note C>,\n",
       " <music21.note.Note C>,\n",
       " <music21.note.Note C>,\n",
       " <music21.note.Note C>,\n",
       " <music21.note.Note C>,\n",
       " <music21.note.Note C>,\n",
       " <music21.note.Note C>,\n",
       " <music21.note.Note C>,\n",
       " <music21.note.Note C>,\n",
       " <music21.note.Note F>,\n",
       " <music21.chord.Chord B C#>,\n",
       " <music21.note.Note F#>,\n",
       " <music21.note.Note B>,\n",
       " <music21.note.Note C>,\n",
       " <music21.note.Note D>,\n",
       " <music21.chord.Chord G B>,\n",
       " <music21.note.Note C>,\n",
       " <music21.note.Note D>,\n",
       " <music21.chord.Chord F# G>,\n",
       " <music21.chord.Chord E G>,\n",
       " <music21.note.Note G>,\n",
       " <music21.note.Note C>,\n",
       " <music21.note.Note C>,\n",
       " <music21.note.Note G>,\n",
       " <music21.chord.Chord E G>,\n",
       " <music21.chord.Chord A C>,\n",
       " <music21.chord.Chord E G>,\n",
       " <music21.note.Note G>,\n",
       " <music21.note.Note F>,\n",
       " <music21.note.Note C>,\n",
       " <music21.note.Note E>,\n",
       " <music21.note.Note B>,\n",
       " <music21.note.Note F#>,\n",
       " <music21.note.Note F#>,\n",
       " <music21.note.Note A>,\n",
       " <music21.chord.Chord E F>,\n",
       " <music21.note.Note G>,\n",
       " <music21.note.Note G>,\n",
       " <music21.note.Note G#>,\n",
       " <music21.note.Note G>,\n",
       " <music21.note.Note F#>,\n",
       " <music21.note.Note F#>,\n",
       " <music21.note.Note G>,\n",
       " <music21.note.Note F#>,\n",
       " <music21.note.Note F#>,\n",
       " <music21.chord.Chord C F>,\n",
       " <music21.note.Note G#>,\n",
       " <music21.note.Note B>,\n",
       " <music21.chord.Chord E- F>,\n",
       " <music21.note.Note B>,\n",
       " <music21.note.Note B>,\n",
       " <music21.note.Note E>,\n",
       " <music21.note.Note F#>,\n",
       " <music21.note.Note B>,\n",
       " <music21.chord.Chord E- F>,\n",
       " <music21.note.Note G>,\n",
       " <music21.note.Note F>,\n",
       " <music21.note.Note D>,\n",
       " <music21.chord.Chord E- F>,\n",
       " <music21.note.Note F>,\n",
       " <music21.note.Note E->,\n",
       " <music21.note.Note E>,\n",
       " <music21.note.Note E->,\n",
       " <music21.note.Note B>,\n",
       " <music21.note.Note F>,\n",
       " <music21.note.Note D>]"
      ]
     },
     "execution_count": 20,
     "metadata": {},
     "output_type": "execute_result"
    }
   ],
   "source": [
    "output_notes"
   ]
  },
  {
   "cell_type": "code",
   "execution_count": 21,
   "metadata": {},
   "outputs": [
    {
     "data": {
      "text/plain": [
       "'Output.mid'"
      ]
     },
     "execution_count": 21,
     "metadata": {},
     "output_type": "execute_result"
    }
   ],
   "source": [
    "midi_stream = stream.Stream(output_notes)\n",
    "midi_stream.write('midi', fp = \"Output.mid\")"
   ]
  },
  {
   "cell_type": "code",
   "execution_count": 22,
   "metadata": {},
   "outputs": [
    {
     "data": {
      "text/html": [
       "\n",
       "                <div id='midiPlayerDiv1300'></div>\n",
       "                <link rel=\"stylesheet\" href=\"//cuthbertLab.github.io/music21j/css/m21.css\"\n",
       "                    type=\"text/css\" />\n",
       "                <script>\n",
       "                require.config({\n",
       "                    paths: {'music21': '//cuthbertLab.github.io/music21j/src/music21'}\n",
       "                });\n",
       "                require(['music21'], function() {\n",
       "                               mp = new music21.miditools.MidiPlayer();\n",
       "                               mp.addPlayer('#midiPlayerDiv1300');\n",
       "                               mp.base64Load('data:audio/midi;base64,TVRoZAAAAAYAAQABBABNVHJrAAAEEgD/AwAA4ABAAJBFWogAgEUAAJBFWogAgEUAAJApWogAgCkAAJA8WogAgDwAAJA8WogAgDwAAJApWogAgCkAAJApWogAgCkAAJA8WgCQQVqEAJA8WgCQQFqEAIA8AACAQQAAkEFahACAPAAAgEAAAJApWoQAgEEAAJAoWoQAgCkAAJA5WoQAgCgAAJApWoQAgDkAAJBVWoQAgCkAAJAoWoQAgFUAAJApWoQAgCgAAJA8WoQAgCkAAJA8WoQAgDwAAJA8WoQAgDwAAJBPWoQAgDwAAJBBWoQAgE8AAJBBWoQAgEEAAJApWoQAgEEAAJA5WoQAgCkAAJAwWoQAgDkAAJA1WoQAgDAAAJBAWgCQQVqEAIA1AACQPFoAkEFahACAQAAAgEEAAJA0WoQAgDwAAIBBAACQKFqEAIA0AACQPFqEAIAoAACQQVqEAIA8AACQQVqEAIBBAACQSFqEAIBBAACQSFqEAIBIAACQSFqEAIBIAACQSFqEAIBIAACQSFqEAIBIAACQSFqEAIBIAACQSFqEAIBIAACQSFqEAIBIAACQSFqEAIBIAACQTVqEAIBIAACQR1oAkD1ahACATQAAkCpahACARwAAgD0AAJBHWoQAgCoAAJBIWoQAgEcAAJAyWoQAgEgAAJBDWgCQR1qEAIAyAACQVFqEAIBDAACARwAAkDJahACAVAAAkEJaAJBDWoQAgDIAAJBAWgCQQ1qEAIBCAACAQwAAkE9ahACAQAAAgEMAAJBUWoQAgE8AAJA8WoQAgFQAAJBDWoQAgDwAAJBAWgCQQ1qEAIBDAACQRVoAkDxahACAQAAAgEMAAJBAWgCQQ1qEAIBFAACAPAAAkDdahACAQAAAgEMAAJApWoQAgDcAAJAwWoQAgCkAAJBAWoQAgDAAAJAvWoQAgEAAAJA2WoQAgC8AAJBOWoQAgDYAAJBRWoQAgE4AAJBAWgCQQVqEAIBRAACQK1qEAIBAAACAQQAAkCtahACAKwAAkERahACAKwAAkDdahACARAAAkCpahACANwAAkCpahACAKgAAkDdahACAKgAAkCpahACANwAAkCpahACAKgAAkDxaAJBBWoQAgCoAAJBEWoQAgDwAAIBBAACQR1qEAIBEAACQP1oAkEFahACARwAAkEdahACAPwAAgEEAAJBHWoQAgEcAAJBYWoQAgEcAAJBCWoQAgFgAAJA7WoQAgEIAAJA/WgCQQVqEAIA7AIQAgD8AAIBBAACQQ1qIAIBDAACQNVqIAIA1AACQSlqIAIBKAACQP1oAkEFaiACAPwAAgEEAAJApWogAgCkAAJBLWogAgEsAAJBYWogAgFgAAJBLWogAgEsAAJBHWogAgEcAAJApWogAgCkAAJAyWogAgDIAiAD/LwA=');\n",
       "                        });\n",
       "                </script>"
      ],
      "text/plain": [
       "<IPython.core.display.HTML object>"
      ]
     },
     "metadata": {},
     "output_type": "display_data"
    }
   ],
   "source": [
    "midi_stream.show('midi')"
   ]
  },
  {
   "cell_type": "code",
   "execution_count": null,
   "metadata": {},
   "outputs": [],
   "source": []
  }
 ],
 "metadata": {
  "kernelspec": {
   "display_name": "Python 3",
   "language": "python",
   "name": "python3"
  },
  "language_info": {
   "codemirror_mode": {
    "name": "ipython",
    "version": 3
   },
   "file_extension": ".py",
   "mimetype": "text/x-python",
   "name": "python",
   "nbconvert_exporter": "python",
   "pygments_lexer": "ipython3",
   "version": "3.7.6"
  }
 },
 "nbformat": 4,
 "nbformat_minor": 4
}
